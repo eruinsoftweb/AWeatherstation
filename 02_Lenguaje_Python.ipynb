{
  "nbformat": 4,
  "nbformat_minor": 0,
  "metadata": {
    "colab": {
      "provenance": [],
      "include_colab_link": true
    },
    "kernelspec": {
      "name": "python3",
      "display_name": "Python 3"
    },
    "language_info": {
      "name": "python"
    }
  },
  "cells": [
    {
      "cell_type": "markdown",
      "metadata": {
        "id": "view-in-github",
        "colab_type": "text"
      },
      "source": [
        "<a href=\"https://colab.research.google.com/github/eruinsoftweb/AWeatherstation/blob/main/02_Lenguaje_Python.ipynb\" target=\"_parent\"><img src=\"https://colab.research.google.com/assets/colab-badge.svg\" alt=\"Open In Colab\"/></a>"
      ]
    },
    {
      "cell_type": "markdown",
      "source": [
        "# Taller Introducción a la **Computación Científica** con Jupyter/Python\n",
        "## **RUAV**: Asociación Red Universitaria de Alta Velocidad del Valle del Cauca\n",
        "## Ing. **Diego Fernando Marin** - Universidad Libre - Seccional Cali\n"
      ],
      "metadata": {
        "id": "-SRUb0-xBpR1"
      }
    },
    {
      "cell_type": "markdown",
      "source": [
        "# El Lenguaje de Programación Python"
      ],
      "metadata": {
        "id": "IMjYredTIjNw"
      }
    },
    {
      "cell_type": "markdown",
      "source": [
        "## Por qué utilizamos ```Python```?\n",
        "\n",
        "Si existe una gran cantidad y variedad de [lenguajes de programación](https://en.wikipedia.org/wiki/List_of_programming_languages) por qué utilizamos ```Python```?\n",
        "\n",
        "Hay muchas y muy buenas razones:\n",
        "\n",
        "- Desde el 2014 viene subiendo posiciones en el índice [TIOBE](https://www.tiobe.com/tiobe-index/) y lleva varios años entre los 3 primeros.\n",
        "- Ocupa el primer lugar desde 2018 en el [Top IEEE](https://spectrum.ieee.org/top-programming-languages-2022) de lenguajes de programación.\n",
        "- Es el #1 en el índice de popularidad de lenguajes de programación [PYPL](https://pypl.github.io/PYPL.html), superando a sus competidores desde mediados del [2018](https://www.economist.com/graphic-detail/2018/07/26/python-is-becoming-the-worlds-most-popular-coding-language).\n",
        "- Es la primera recomendación de [qué lenguajes aprender en 2020](https://www.computer.org/publications/tech-news/build-your-career/top-programming-languages-to-learn-this-year) de la revista IEEE Computer.\n",
        "- Es lenguaje más utilizado en los [cursos introductorios de programación](https://cacm.acm.org/blogs/blog-cacm/176450-python-is-now-the-most-popular-introductory-teaching-language-at-top-us-universities/fulltext) en el top de las universidades de Estados Unidos.\n",
        "- Desde el 2017, superó a ```R``` como el lenguaje en la [ciencia de datos](https://www.kdnuggets.com/2017/08/python-overtakes-r-leader-analytics-data-science.html).\n",
        "- Es el lenguaje más utilizado en [Machine Learning](https://neptune.ai/blog/programming-languages-machine-learning)."
      ],
      "metadata": {
        "id": "CiGemUNuEWz_"
      }
    },
    {
      "cell_type": "markdown",
      "source": [
        "**Python** es un lenguaje de programación de alto nivel, interpretado, orientado a objetos, tipos dinámicos, caracteristicas funcionales, portable, y se integra con otros lenguajes.\n",
        "\n",
        "Su sintaxis es sencilla, fácil de aprender, fácil de leer, concisa, ideal para quienes apenas comienzan en la programación.\n",
        "\n",
        "[What is Python?](https://www.python.org/doc/essays/blurb/)"
      ],
      "metadata": {
        "id": "t5OInKz5IduT"
      }
    },
    {
      "cell_type": "markdown",
      "source": [
        "# Python"
      ],
      "metadata": {
        "id": "1j99Yam0JGyM"
      }
    },
    {
      "cell_type": "markdown",
      "source": [
        "## Comentarios\n",
        "El código bien escrito es auto-explicativo, pero siempre ha espacio para agregar comentarios que faciliten la labor de quien debe modificarlo en el futuro (incluyendo al mismo autor). En Python los comentarios se crean con del carácter _sharp_ `#`.\n",
        "\n",
        "Un buen comentario, debe:\n",
        "- ser una oración completa, aunque breve.\n",
        "- ser un reflejo de pensamiento, así después cuando vuelvas a leer tu código sabrás que pensabas al momento de escribirlo.\n",
        "- explicar tu pensamiento, así otros podrán entender que enfoque utilizaste al escribir tu código.\n",
        "- explicar partes difíciles de tu código, en detalle.\n",
        "- explicar porque decidiste escribir el código de esta forma, si hay otras maneras de hacerlo.\n",
        "\n",
        "Los comentarios no son para:\n",
        "- Decir cosas que son obvias → ```total = 100 # el total es 100```\n",
        "- DRY, no WET → Don't Repeat Yourself, no Wasted Everyone's Time\n",
        "- Resolver problemas del código, no hay suficientes comentarios que pueda explicar código mal escrito\n",
        "- Pasar la responsabilidad a otro → ```# Esto no funciona, @jperez lo daño, que él lo arregle!```\n",
        "\n",
        "Escribir buenos comentarios es una señal indiscutible de código bien escrito."
      ],
      "metadata": {
        "id": "xHLLS8UmJBeT"
      }
    },
    {
      "cell_type": "markdown",
      "source": [
        "## Palabras Reservadas\n",
        "\n",
        "Python 3:\n",
        "- ```False```, ```True```, ```None```, ```class```, ```pass```, ```not```, ```and```, ```or```, ```in```, ```is```\n",
        "- ```for```, ```while```, ```break```, ```continue```, ```if```, ```elif```, ```else```\n",
        "- ```from```, ```import```, ```global```, ```nonlocal```, ```def```, ```return```, ```yield```, ```del```\n",
        "- ```try```, ```raise```, ```assert```, ```except```, ```finally```, ```with```, ```as```, ```await```, ```async```, ```lambda```\n",
        "\n",
        "Es posible consultar la lista de palabras reservadas usando ```help(\"keywords\")``` en el interprete de ```Python```."
      ],
      "metadata": {
        "id": "E287DzYWF9Ax"
      }
    },
    {
      "cell_type": "markdown",
      "source": [
        "## Nombres de Identificadores\n",
        "Los nombres de los identificadores se utilizan para variables, funciones, clases, constantes, etc.:\n",
        "- solo pueden contener letras, números y el carácter de subrayado `_`.\n",
        "- pueden iniciar solo con una letra, o un carácter de subrayado, no puede iniciar con número.\n",
        "- no pueden contener espacios.\n",
        "- no puede ser una palabra reservada de Python.\n",
        "- deben ser descriptivos, sin ser muy largos.\n",
        "\n",
        "Algunos ejemplos válidos:\n",
        "```python\n",
        "precio_unitario = 734.99\n",
        "Estudiante\n",
        "subTotal = 83474\n",
        "Nombre_Real = \"Jacinto Cipriano\"\n",
        "calcularROI()\n",
        "puntos = [(3,2), (-1,8), (5,7)]\n",
        "ejecutarComando()\n",
        "```"
      ],
      "metadata": {
        "id": "keJ4EbQEJg3C"
      }
    },
    {
      "cell_type": "code",
      "source": [
        "# Identificador inválido: comienza por número\n",
        "1ra_posicion = True"
      ],
      "metadata": {
        "id": "Qy9QElLiCH2N"
      },
      "execution_count": null,
      "outputs": []
    },
    {
      "cell_type": "code",
      "source": [
        "# Identificador inválido: tiene espacios\n",
        "nivel ventas = \"Estándar\""
      ],
      "metadata": {
        "id": "ornb3_M0CdK9"
      },
      "execution_count": null,
      "outputs": []
    },
    {
      "cell_type": "code",
      "source": [
        "# Identificador inválido: incluye un caracter inválido\n",
        "precio$ = 0.25"
      ],
      "metadata": {
        "id": "KKqiYMHSCiN7"
      },
      "execution_count": null,
      "outputs": []
    },
    {
      "cell_type": "code",
      "source": [
        "# Identificador inválido: incluye un caracter inválido\n",
        "costo-unitario = 7500"
      ],
      "metadata": {
        "id": "vSrCEWsNC160"
      },
      "execution_count": null,
      "outputs": []
    },
    {
      "cell_type": "code",
      "source": [
        "# Identificador inválido: es una palabra reservada\n",
        "global = 7500"
      ],
      "metadata": {
        "id": "9aUk-QwqDKKH"
      },
      "execution_count": null,
      "outputs": []
    },
    {
      "cell_type": "markdown",
      "source": [
        "La forma como se escriben los identificadores es importante, el [PEP-8](https://peps.python.org/pep-0008/) define una guía de estilo, y [Google](https://google.github.io/styleguide/pyguide.html) definió la suya propia."
      ],
      "metadata": {
        "id": "Z4apgDGvD5C8"
      }
    },
    {
      "cell_type": "code",
      "source": [
        "# Ejemplos de identificadores válidos para una variable: código de un municipio\n",
        "codigo_municipio = 76001 # snake_case     https://en.wikipedia.org/wiki/Snake_case\n",
        "codigoMunicipio = 11001  # lowerCamelCase https://en.wikipedia.org/wiki/Camel_case\n",
        "CodigoMunicipio = 50001  # UpperCamelCase\n",
        "cod_mpio = 14034"
      ],
      "metadata": {
        "id": "t16_oXecKn61"
      },
      "execution_count": null,
      "outputs": []
    },
    {
      "cell_type": "code",
      "source": [
        "# Ejemplos de identificadores válidos, que es mejor evitar en una variable:\n",
        "_codigom = 81001  # _ está destinado a atributos privados\n",
        "c = 46240         # solo quien lo escribió sabe que significa esa 'c'\n",
        "cm = 41006\n",
        "codigo = 87344    # código, de qué? no ganas nada 'ahorrandote' esas letras menos\n",
        "CODIGO = 77301    # mayúsculas están reservadas para las constantes"
      ],
      "metadata": {
        "id": "bpLcYcudDwYM"
      },
      "execution_count": null,
      "outputs": []
    },
    {
      "cell_type": "code",
      "source": [
        "# Cree 5 identificadores válidos para la variable: nombre de un producto\n"
      ],
      "metadata": {
        "id": "OBwhidwSK8D-"
      },
      "execution_count": null,
      "outputs": []
    },
    {
      "cell_type": "code",
      "source": [
        "# Cree 5 identificadores válidos para la variable: total de factura:\n"
      ],
      "metadata": {
        "id": "a6rDML2RLDIM"
      },
      "execution_count": null,
      "outputs": []
    },
    {
      "cell_type": "code",
      "source": [
        "# Convierta los ejemplos de identificadores inválidos anteriores en identificadores válidos:\n"
      ],
      "metadata": {
        "id": "ShCIhXYwFeRl"
      },
      "execution_count": null,
      "outputs": []
    },
    {
      "cell_type": "markdown",
      "source": [
        "# Tipos de Datos\n",
        "\n",
        "```Python``` incluye los siguientes tipos de datos:\n",
        "- Números: enteros de precisión ilimitada (```int```), flotantes de doble precisión (```float```), complejos.\n",
        "- Booleanos: solo aceptan los valores constantes ```True``` o ```False```.\n",
        "- ```None```: un valor especial para representar que no tiene un valor apropiado.\n",
        "- Cadenas: Secuencias de carácteres [Unicode](https://home.unicode.org/)\n",
        "- Colecciones:\n",
        "  - Listas: Colección mutable de objetos de cualquier tipo. ```[]```\n",
        "  - Tuplas: Colección inmutable de objetos de cualquier tipo. ```()```\n",
        "  - Conjuntos: Colección mutable de objetos de cualquier tipo, sin objetos repetidos. ```{}```\n",
        "  - Diccionarios: Colección ```{Llave: Valor}```\n",
        "- Clases, objetos definidos por el usuario.\n",
        "\n",
        "Cabe anotar que en ```Python```, las funciones, clases, y módulos también son valores válidos para una variable."
      ],
      "metadata": {
        "id": "zaMHOjLGPIIC"
      }
    },
    {
      "cell_type": "markdown",
      "source": [
        "## Enteros\n",
        "\n",
        "Las operaciones básicas con números enteros son suma `+`, resta`-`, multiplicación `*`, división `/` y exponenciación `**`."
      ],
      "metadata": {
        "id": "86lHiikwfCE-"
      }
    },
    {
      "cell_type": "code",
      "source": [
        "# Variables enteras de ejemplo:\n",
        "contador = 0\n",
        "año = 2021\n",
        "edad = 39\n"
      ],
      "metadata": {
        "id": "333XRVjKBwun"
      },
      "execution_count": null,
      "outputs": []
    },
    {
      "cell_type": "code",
      "source": [
        "# Cree 5 variables enteras y realice operaciones con ellas\n"
      ],
      "metadata": {
        "id": "kA5gkq5GB0rX"
      },
      "execution_count": null,
      "outputs": []
    },
    {
      "cell_type": "markdown",
      "source": [
        "## Punto flotante\n",
        "\n",
        "Cualquier operación numérica que incluye valores con decimales, dará como resultado un número de punto flotante."
      ],
      "metadata": {
        "id": "Ep_GjoYKInUU"
      }
    },
    {
      "cell_type": "code",
      "source": [
        "# Variables de punto flotante de ejemplo:\n",
        "total = 982.23\n",
        "precio = 7.9999\n",
        "humedad = 86.59"
      ],
      "metadata": {
        "id": "KbGgfYxoIvC6"
      },
      "execution_count": null,
      "outputs": []
    },
    {
      "cell_type": "code",
      "source": [
        "# Cree algunas variables de punto flotante y realice operaciones con ellas\n"
      ],
      "metadata": {
        "id": "JMPDl56ZI78z"
      },
      "execution_count": null,
      "outputs": []
    },
    {
      "cell_type": "markdown",
      "source": [
        "## Precisión numérica\n",
        "\n",
        "Como los computadores debe representar los números en binario, [no siempre es posible una representación precisa](https://www.lahey.com/float.htm) de los valores:"
      ],
      "metadata": {
        "id": "famaz5-UJSOf"
      }
    },
    {
      "cell_type": "code",
      "source": [
        "10 / 3"
      ],
      "metadata": {
        "id": "rbB5EyDsJVl3"
      },
      "execution_count": null,
      "outputs": []
    },
    {
      "cell_type": "code",
      "source": [
        "1.2 - 1.0"
      ],
      "metadata": {
        "id": "wbBTg-o2JBwS"
      },
      "execution_count": null,
      "outputs": []
    },
    {
      "cell_type": "code",
      "source": [
        "1.0 - 0.9"
      ],
      "metadata": {
        "id": "pDWAqwwZJfqR"
      },
      "execution_count": null,
      "outputs": []
    },
    {
      "cell_type": "code",
      "source": [
        "0.05 + 0.05"
      ],
      "metadata": {
        "id": "EEw7gSLAJ4N_"
      },
      "execution_count": null,
      "outputs": []
    },
    {
      "cell_type": "code",
      "source": [
        "0.1+0.1+0.1"
      ],
      "metadata": {
        "id": "-fEMq_-UkHbJ"
      },
      "execution_count": null,
      "outputs": []
    },
    {
      "cell_type": "code",
      "source": [
        "0.1+0.1+0.1 == 0.3"
      ],
      "metadata": {
        "id": "10FFW6fyKHIa"
      },
      "execution_count": null,
      "outputs": []
    },
    {
      "cell_type": "markdown",
      "source": [
        "Redondear no resuelve este problema, por se debe a la forma como los números reales son almacenados en binario en el computador. No es un problema de Python."
      ],
      "metadata": {
        "id": "PRRL_xDWBUyK"
      }
    },
    {
      "cell_type": "code",
      "source": [
        "round(0.1, 2)+round(0.1, 2)+round(0.1, 2) == round(0.3, 2)"
      ],
      "metadata": {
        "id": "B3K9lw_gkdym"
      },
      "execution_count": null,
      "outputs": []
    },
    {
      "cell_type": "code",
      "source": [
        "(0.1+0.1+0.1) - 0.3"
      ],
      "metadata": {
        "id": "Sb4w84TRk3VH"
      },
      "execution_count": null,
      "outputs": []
    },
    {
      "cell_type": "markdown",
      "source": [
        "Una posible solución, es considerar dicho error en los cálculos, y aceptar los valores dentro de ciertos limites."
      ],
      "metadata": {
        "id": "-mKYfMP5BiPM"
      }
    },
    {
      "cell_type": "code",
      "source": [
        "if (0.1+0.1+0.1) - 0.3 < 0.01:\n",
        "  print(\"son iguales\")"
      ],
      "metadata": {
        "id": "bIlziWRJkxRx"
      },
      "execution_count": null,
      "outputs": []
    },
    {
      "cell_type": "markdown",
      "source": [
        "Otra alternativa es utilizar librerías de diseñadas para manipular números reales con precisión arbitraria como [mpmath](https://mpmath.org/)."
      ],
      "metadata": {
        "id": "eljGJHwkKeux"
      }
    },
    {
      "cell_type": "markdown",
      "source": [
        "## Cadenas\n",
        "Las cadenas son secuencias de carácteres [Unicode](https://home.unicode.org/), pueden definirse dentro de comillas simples `'` o comillas dobles `\"`."
      ],
      "metadata": {
        "id": "tqtX-sqMKp5Y"
      }
    },
    {
      "cell_type": "code",
      "source": [
        "# Variables de cadena de ejemplo:\n",
        "unilibre = 'Universidad Libre - Sede Cali'\n",
        "taller = \"Taller de 'Computación Científica'\"\n",
        "ruav = 'Red Universitaria de Alta Velocidad del Valle del Cauca'\n",
        "saludo = \"¯\\_(ツ)_/¯\"\n",
        "smiley = \"😃\""
      ],
      "metadata": {
        "id": "M6wM0KYmNiCg"
      },
      "execution_count": null,
      "outputs": []
    },
    {
      "cell_type": "code",
      "source": [
        "print(smiley)"
      ],
      "metadata": {
        "id": "E0n5kFjQmQQa"
      },
      "execution_count": null,
      "outputs": []
    },
    {
      "cell_type": "markdown",
      "source": [
        "Las cadenas (todos son objetos) tienen métodos propios para realizar tareas comunes, tales como ```.capitalize()```, ```.count()```, ```.find()```, ```.join()```, ```.lower()```, ```.replace()```, ```.split()```, ```.strip()```, ```.upper()```.\n",
        "\n",
        "Ejemplos:"
      ],
      "metadata": {
        "id": "ojngWp2PORkc"
      }
    },
    {
      "cell_type": "code",
      "source": [
        "# Convierte a mayúsculas\n",
        "unilibre.upper()"
      ],
      "metadata": {
        "id": "ce7LkgXZTq_R"
      },
      "execution_count": null,
      "outputs": []
    },
    {
      "cell_type": "code",
      "source": [
        "# Convierte a minúsculas\n",
        "taller.lower()"
      ],
      "metadata": {
        "id": "hl9nDPKVT4XX"
      },
      "execution_count": null,
      "outputs": []
    },
    {
      "cell_type": "code",
      "source": [
        "# Separa las palabras de acuerdo a caracter indicado\n",
        "ruav.split(' ')"
      ],
      "metadata": {
        "id": "8Sc7AqllT9Yg"
      },
      "execution_count": null,
      "outputs": []
    },
    {
      "cell_type": "code",
      "source": [
        "# Reemplaza una palabra por otra\n",
        "unilibre.replace('Sede', 'Seccional')"
      ],
      "metadata": {
        "id": "QnCI2QalUOkt"
      },
      "execution_count": null,
      "outputs": []
    },
    {
      "cell_type": "code",
      "source": [
        "unilibre.replace('Sede', 'Seccional').upper().split(' ')"
      ],
      "metadata": {
        "id": "WVzD3H4Smofg"
      },
      "execution_count": null,
      "outputs": []
    },
    {
      "cell_type": "code",
      "source": [
        "# Cree algunas variables de cadena y pruebe los métodos anteriores:\n"
      ],
      "metadata": {
        "id": "3Q3Jz2owNns4"
      },
      "execution_count": null,
      "outputs": []
    },
    {
      "cell_type": "code",
      "source": [
        "# Centrar el saludo en un espacio de 80 caracteres\n",
        "print('|',saludo.center(80),'|')"
      ],
      "metadata": {
        "id": "B9z067aqn_nu"
      },
      "execution_count": null,
      "outputs": []
    },
    {
      "cell_type": "code",
      "source": [
        "type(precio)"
      ],
      "metadata": {
        "id": "VEdbExwdnOrF"
      },
      "execution_count": null,
      "outputs": []
    },
    {
      "cell_type": "code",
      "source": [
        "dir(str)"
      ],
      "metadata": {
        "id": "poAhdhrlnyrV"
      },
      "execution_count": null,
      "outputs": []
    },
    {
      "cell_type": "code",
      "source": [
        "texto = 'En este mensaje tengo \"comillas dobles\"'\n",
        "texto"
      ],
      "metadata": {
        "id": "LWmUXNVfrQSK"
      },
      "execution_count": null,
      "outputs": []
    },
    {
      "cell_type": "code",
      "source": [
        "# Subindexar cadenas"
      ],
      "metadata": {
        "id": "j9QGAf2WxpCg"
      },
      "execution_count": null,
      "outputs": []
    },
    {
      "cell_type": "code",
      "source": [
        "unilibre[:17]"
      ],
      "metadata": {
        "id": "T83f_gIexqmg"
      },
      "execution_count": null,
      "outputs": []
    },
    {
      "cell_type": "code",
      "source": [
        "unilibre[12:17]"
      ],
      "metadata": {
        "id": "sg-8JfGZx0de"
      },
      "execution_count": null,
      "outputs": []
    },
    {
      "cell_type": "code",
      "source": [
        "unilibre[20:]"
      ],
      "metadata": {
        "id": "N5NqzZNqx34g"
      },
      "execution_count": null,
      "outputs": []
    },
    {
      "cell_type": "code",
      "source": [
        "unilibre[-4:]"
      ],
      "metadata": {
        "id": "VUNu_-bkx8k1"
      },
      "execution_count": null,
      "outputs": []
    },
    {
      "cell_type": "markdown",
      "source": [
        "# Escribiendo Mensajes\n",
        "\n",
        "En Python hay varias formas para escribir mensajes con datos y variables:"
      ],
      "metadata": {
        "id": "lJdAAUrUUby8"
      }
    },
    {
      "cell_type": "code",
      "source": [
        "# Asigne valores a las siguientes variables:\n",
        "nombre = \"jeronimo\"\n",
        "planeta = \"alderaan\"\n",
        "ciudad = \"mos eisly\"\n",
        "año = 5430"
      ],
      "metadata": {
        "id": "CIgINtkkUoJs"
      },
      "execution_count": null,
      "outputs": []
    },
    {
      "cell_type": "code",
      "source": [
        "# 1. Usando las variables separadas por comas:\n",
        "print(nombre, planeta, ciudad, año, precio)"
      ],
      "metadata": {
        "id": "BGvQqvKGVzv_"
      },
      "execution_count": null,
      "outputs": []
    },
    {
      "cell_type": "code",
      "source": [
        "# 2. Usando el operador %:\n",
        "print(\"soy '%-12s', vengo de '%15s' en %s, llegué en %d → %0.4f\" % (nombre, ciudad, planeta, año, precio))"
      ],
      "metadata": {
        "id": "tJqVjCGuWEpY"
      },
      "execution_count": null,
      "outputs": []
    },
    {
      "cell_type": "code",
      "source": [
        "# 3. Usando el método .format():\n",
        "print('soy \"{:12}\", vengo de \"{:>15}\" en {}, llegué en {} → {:.4f}'.format(nombre, ciudad, planeta, año, precio))"
      ],
      "metadata": {
        "id": "qe3DJloqWSJ1"
      },
      "execution_count": null,
      "outputs": []
    },
    {
      "cell_type": "code",
      "source": [
        "# 4. Usando F-Strings:\n",
        "print(f\"soy '{nombre:12}', vengo de '{planeta:>15}' en {ciudad}, llegué en {año} → {precio:.4f}\")"
      ],
      "metadata": {
        "id": "TRQDAwUhWchm"
      },
      "execution_count": null,
      "outputs": []
    },
    {
      "cell_type": "markdown",
      "source": [
        "Hola, soy _Juan Perez_ y trabajo la _Empresa_ en _Ciudad_ desde el año _2020_."
      ],
      "metadata": {
        "id": "JVnuq7C-W6Tw"
      }
    },
    {
      "cell_type": "code",
      "source": [
        "# Imprima el mensaje anterior usando el operador %:\n"
      ],
      "metadata": {
        "id": "-J_uR47UWtYb"
      },
      "execution_count": null,
      "outputs": []
    },
    {
      "cell_type": "code",
      "source": [
        "# Imprima el mensaje anterior usando el método .format():\n"
      ],
      "metadata": {
        "id": "alxApDE6XS50"
      },
      "execution_count": null,
      "outputs": []
    },
    {
      "cell_type": "code",
      "source": [
        "# Imprima el mensaje anterior usando una F-String:\n"
      ],
      "metadata": {
        "id": "P9SpfkCSXV3J"
      },
      "execution_count": null,
      "outputs": []
    },
    {
      "cell_type": "markdown",
      "source": [
        "# Leer Valores\n",
        "\n",
        "La lectura de valores se realiza con ```input()```, siempre retorna una cadena:"
      ],
      "metadata": {
        "id": "WVP_o8lpteif"
      }
    },
    {
      "cell_type": "code",
      "source": [
        "# Leer un valor (sin mensaje)\n",
        "nombre = input()"
      ],
      "metadata": {
        "id": "RP9ye76utn0V"
      },
      "execution_count": null,
      "outputs": []
    },
    {
      "cell_type": "code",
      "source": [
        "# Leer un valor con mensaje\n",
        "nombre = input(\"Digite el Nombre:\")"
      ],
      "metadata": {
        "id": "UmNIsmDlt1Bv"
      },
      "execution_count": null,
      "outputs": []
    },
    {
      "cell_type": "code",
      "source": [
        "# Leer un valor numérico\n",
        "precio = float(input(\"Digite el Precio:\"))"
      ],
      "metadata": {
        "id": "3fUc_hYUt8N1"
      },
      "execution_count": null,
      "outputs": []
    },
    {
      "cell_type": "code",
      "source": [
        "# Leer un valor numérico\n",
        "cantidad = int(input(\"Digite la Cantidad:\"))"
      ],
      "metadata": {
        "id": "oGHZnlpNuU-w"
      },
      "execution_count": null,
      "outputs": []
    },
    {
      "cell_type": "code",
      "source": [
        "total = precio * cantidad\n",
        "print(f\"{total=} = {precio=} * {cantidad=}\")"
      ],
      "metadata": {
        "id": "BhWWoS7VuBKF"
      },
      "execution_count": null,
      "outputs": []
    },
    {
      "cell_type": "code",
      "source": [
        "%who"
      ],
      "metadata": {
        "id": "37gOsfkcu1Aa"
      },
      "execution_count": null,
      "outputs": []
    },
    {
      "cell_type": "code",
      "source": [
        "%pinfo CODIGO"
      ],
      "metadata": {
        "id": "y8cQTAsfu5I7"
      },
      "execution_count": null,
      "outputs": []
    },
    {
      "cell_type": "markdown",
      "source": [
        "## Ejemplo:\n",
        "\n",
        "Realice un programa que lea el nombre de una persona, su edad y calcule el año de nacimiento:"
      ],
      "metadata": {
        "id": "dv_cYO7DvW8D"
      }
    },
    {
      "cell_type": "code",
      "source": [
        "nombre = input(\"Digite su nombre:\")\n",
        "edad = int(input(\"Digite su edad:\"))\n",
        "año = 2023 - edad\n",
        "print(f\"{nombre} nacido en {año} tiene {edad}\")"
      ],
      "metadata": {
        "id": "U_l2crZDvghP"
      },
      "execution_count": null,
      "outputs": []
    },
    {
      "cell_type": "markdown",
      "source": [
        "# Colecciones"
      ],
      "metadata": {
        "id": "j3UUeZI9B8M4"
      }
    },
    {
      "cell_type": "markdown",
      "source": [
        "## Listas\n",
        "Colección mutable de elementos de cualquier tipo"
      ],
      "metadata": {
        "id": "bVgb7MkiwCld"
      }
    },
    {
      "cell_type": "code",
      "source": [
        "inventario = ['Mesa', 'Celular', 'Regla', 'Moto']"
      ],
      "metadata": {
        "id": "X-yT03HNwEIZ"
      },
      "execution_count": null,
      "outputs": []
    },
    {
      "cell_type": "code",
      "source": [
        "type(inventario)"
      ],
      "metadata": {
        "id": "CO-qJzaswUWo"
      },
      "execution_count": null,
      "outputs": []
    },
    {
      "cell_type": "code",
      "source": [
        "dir(list)"
      ],
      "metadata": {
        "id": "01ZxQb7TwXZu"
      },
      "execution_count": null,
      "outputs": []
    },
    {
      "cell_type": "code",
      "source": [
        "inventario.append('Libro')\n",
        "inventario"
      ],
      "metadata": {
        "id": "k56z5ijBwdpQ"
      },
      "execution_count": null,
      "outputs": []
    },
    {
      "cell_type": "code",
      "source": [
        "nuevos = ['Silla', 'Cuaderno', 'Olla']"
      ],
      "metadata": {
        "id": "c6jZ9lHTwkJH"
      },
      "execution_count": null,
      "outputs": []
    },
    {
      "cell_type": "code",
      "source": [
        "inventario.extend(nuevos)\n",
        "inventario"
      ],
      "metadata": {
        "id": "ik0sSGkkwpAd"
      },
      "execution_count": null,
      "outputs": []
    },
    {
      "cell_type": "code",
      "source": [
        "len(inventario)"
      ],
      "metadata": {
        "id": "X2WFP8aWwvS9"
      },
      "execution_count": null,
      "outputs": []
    },
    {
      "cell_type": "code",
      "source": [
        "inventario[0]"
      ],
      "metadata": {
        "id": "fyqvCPxTxAsm"
      },
      "execution_count": null,
      "outputs": []
    },
    {
      "cell_type": "code",
      "source": [
        "inventario[3]"
      ],
      "metadata": {
        "id": "kxqHko2IxEeC"
      },
      "execution_count": null,
      "outputs": []
    },
    {
      "cell_type": "code",
      "source": [
        "inventario[0:3]"
      ],
      "metadata": {
        "id": "Gllr1v-bxIOL"
      },
      "execution_count": null,
      "outputs": []
    },
    {
      "cell_type": "code",
      "source": [
        "inventario[:3]"
      ],
      "metadata": {
        "id": "FpKATEMxxdk8"
      },
      "execution_count": null,
      "outputs": []
    },
    {
      "cell_type": "code",
      "source": [
        "inventario[-1]"
      ],
      "metadata": {
        "id": "72VelEOMxPIt"
      },
      "execution_count": null,
      "outputs": []
    },
    {
      "cell_type": "code",
      "source": [
        "inventario[-4:]"
      ],
      "metadata": {
        "id": "k83WoCELxVim"
      },
      "execution_count": null,
      "outputs": []
    },
    {
      "cell_type": "code",
      "source": [
        "xs = [5, 4, 3, 8, 9 -2, 3, 7, -4, 0, -1]\n",
        "for x in xs:\n",
        "  r = x ** 3\n",
        "  print(f\"{x:5} {r:5}\")"
      ],
      "metadata": {
        "id": "rX0lgNuSyBFG"
      },
      "execution_count": null,
      "outputs": []
    },
    {
      "cell_type": "code",
      "source": [
        "personas = ['Juan', 'Pedro', 'Luisa', 'Maria', 'Stella', 'Jorge']\n",
        "for persona in personas:\n",
        "  if persona[0] != 'J':\n",
        "    print(persona.upper())"
      ],
      "metadata": {
        "id": "UI7X_pF6yfmq"
      },
      "execution_count": null,
      "outputs": []
    },
    {
      "cell_type": "markdown",
      "source": [
        "## Diccionarios\n",
        "los Diccionarios son una tabla _llave_:_valor_. Las llaves deben ser un valor inmutable, los valores pueden ser cualquier tipo."
      ],
      "metadata": {
        "id": "WJo-LpPhzJLH"
      }
    },
    {
      "cell_type": "markdown",
      "source": [
        "Variable inmutables: int, float, str, bool, None, tuples\n",
        "\n",
        "Variable Mutables: list, dict, set"
      ],
      "metadata": {
        "id": "shQRshnj0mac"
      }
    },
    {
      "cell_type": "code",
      "source": [
        "x = 5\n",
        "hex(id(x))"
      ],
      "metadata": {
        "id": "-UQ70l0AzcaM"
      },
      "execution_count": null,
      "outputs": []
    },
    {
      "cell_type": "code",
      "source": [
        "x = 12\n",
        "hex(id(x))"
      ],
      "metadata": {
        "id": "QZg5Iqyxzefv"
      },
      "execution_count": null,
      "outputs": []
    },
    {
      "cell_type": "code",
      "source": [
        "x = x + 1\n",
        "hex(id(x))"
      ],
      "metadata": {
        "id": "YCXXZiflzgHV"
      },
      "execution_count": null,
      "outputs": []
    },
    {
      "cell_type": "code",
      "source": [
        "x += 1\n",
        "hex(id(x))"
      ],
      "metadata": {
        "id": "tCvPUvOm0E8n"
      },
      "execution_count": null,
      "outputs": []
    },
    {
      "cell_type": "code",
      "source": [
        "siglas = {\n",
        "  'ibm': 'International Business Machines',\n",
        "  'dane': 'Departamento Administrativo Nacional de Estadistica',\n",
        "  'svg': 'Scalable Vector Graphics'\n",
        "}"
      ],
      "metadata": {
        "id": "78xyfNQ-05Ke"
      },
      "execution_count": null,
      "outputs": []
    },
    {
      "cell_type": "code",
      "source": [
        "siglas['dane']"
      ],
      "metadata": {
        "id": "mdPoTDU11IOg"
      },
      "execution_count": null,
      "outputs": []
    },
    {
      "cell_type": "code",
      "source": [
        "# Recorrer el diccionario por las llaves\n",
        "for llave in siglas.keys():\n",
        "  print(f\"{llave} = {siglas[llave]}\")"
      ],
      "metadata": {
        "id": "HsT78qW01QS3"
      },
      "execution_count": null,
      "outputs": []
    },
    {
      "cell_type": "code",
      "source": [
        "# Recorrer el diccionario por los valores\n",
        "for valor in siglas.values():\n",
        "  print(f\"{valor}\")"
      ],
      "metadata": {
        "id": "CnfXflmI1l-g"
      },
      "execution_count": null,
      "outputs": []
    },
    {
      "cell_type": "code",
      "source": [
        "# Recorrer el diccionario por la tupla: llave, valor   <-- más usado\n",
        "for llave, valor in siglas.items():\n",
        "  print(f\"{llave} = {valor}\")"
      ],
      "metadata": {
        "id": "OESdYdSQ1uXi"
      },
      "execution_count": null,
      "outputs": []
    },
    {
      "cell_type": "markdown",
      "source": [
        "# Ciclos\n",
        "\n",
        "Un ciclo es una estructura que permite repetir un conjunto de instrucciones en forma controlada. Bien porque conocemos de antemano la cantidad de veces que debe repetirse, o porque conocemos una condición para que se detenga."
      ],
      "metadata": {
        "id": "S7LT6LBR5WMK"
      }
    },
    {
      "cell_type": "code",
      "source": [
        "numeros = [34, 56, 23, 78, 12, 98, 65, 32, 21]"
      ],
      "metadata": {
        "id": "-NAhXuZK5cNa"
      },
      "execution_count": null,
      "outputs": []
    },
    {
      "cell_type": "markdown",
      "source": [
        "## Ciclo ```while```"
      ],
      "metadata": {
        "id": "KwoJ37PMAloD"
      }
    },
    {
      "cell_type": "code",
      "source": [
        "# recorrido con un ciclo while\n",
        "# while: repetir un proceso hasta que una condición se cumpla\n",
        "i = 0\n",
        "while i < len(numeros):\n",
        "  resultado = numeros[i] ** 3\n",
        "  print(resultado)\n",
        "  i += 1"
      ],
      "metadata": {
        "id": "xlu6HzMg5ZJf"
      },
      "execution_count": null,
      "outputs": []
    },
    {
      "cell_type": "markdown",
      "source": [
        "## Ciclo ```for```"
      ],
      "metadata": {
        "id": "Ds6gDjQMArjx"
      }
    },
    {
      "cell_type": "code",
      "source": [
        "# for: repetir cuando se conoce la cantidad de elementos a procesar\n",
        "for numero in numeros:\n",
        "  resultado = numero ** 3\n",
        "  print(resultado)"
      ],
      "metadata": {
        "id": "3eb-eZfZ5y4-"
      },
      "execution_count": null,
      "outputs": []
    },
    {
      "cell_type": "code",
      "source": [
        "# Cómo NO hacer un ciclo en Python?\n",
        "for i in range(0, len(numeros)):\n",
        "  resultado = numeros[i] ** 3\n",
        "  print(resultado)"
      ],
      "metadata": {
        "id": "BfJjH1fG6RWv"
      },
      "execution_count": null,
      "outputs": []
    },
    {
      "cell_type": "code",
      "source": [
        "# Cuando necesito conocer el indice, se usa enumerate()\n",
        "for i, numero in enumerate(numeros):\n",
        "  resultado = numero ** 3\n",
        "  print(i, resultado)"
      ],
      "metadata": {
        "id": "YxhZ25bB6vsv"
      },
      "execution_count": null,
      "outputs": []
    },
    {
      "cell_type": "markdown",
      "source": [
        "# Condicionales\n",
        "\n",
        "Una condicional es una estructura de decisión, que permite alterar el flujo del programa. Si la condición se cumple realiza una acción, si no se cumple realiza otra."
      ],
      "metadata": {
        "id": "f6lzYoxg7e6r"
      }
    },
    {
      "cell_type": "markdown",
      "source": [
        "## ```if```\n",
        "Solo se desea conocer si es verdadero para ejecutar la acción, el resultado falso no es relevante y no ejecuta nada."
      ],
      "metadata": {
        "id": "x0xnO0q2BCUV"
      }
    },
    {
      "cell_type": "code",
      "source": [
        "if humedad < 33:\n",
        "  print(\"Seco\")"
      ],
      "metadata": {
        "id": "7HfXbcCiBFuH"
      },
      "execution_count": null,
      "outputs": []
    },
    {
      "cell_type": "markdown",
      "source": [
        "## ```if - else```\n",
        "Se evalua el resultado y tanto verdadero como falso ejecutan acciones diferentes."
      ],
      "metadata": {
        "id": "Z1Xm7Z7iC5p7"
      }
    },
    {
      "cell_type": "code",
      "source": [
        "if humedad < 33:\n",
        "  print(\"Seco\")\n",
        "else:\n",
        "  print(\"Aceptable\")"
      ],
      "metadata": {
        "id": "QShxIfwq7gp7"
      },
      "execution_count": null,
      "outputs": []
    },
    {
      "cell_type": "markdown",
      "source": [
        "## ```if - elif - else```\n",
        "Se evaluan condiciones en forma consecutiva, si alguna da resultado verdadero se ejecuta la acción, si ninguna es verdadera se ejecuta la última acción (else)."
      ],
      "metadata": {
        "id": "mdDGxb5RDLRS"
      }
    },
    {
      "cell_type": "code",
      "source": [
        "if humedad < 33:\n",
        "  print(\"Seco\")\n",
        "elif humedad < 66:\n",
        "  print(\"Aceptable\")\n",
        "else:\n",
        "  print(\"Humedo\")"
      ],
      "metadata": {
        "id": "FU5WcYeB7vfm"
      },
      "execution_count": null,
      "outputs": []
    },
    {
      "cell_type": "markdown",
      "source": [
        "## ```match```\n",
        "Similar al ```switch - case``` de otros lenguajes de programación. Se evalua el valor contra las opciones de cada ```case``` y se ejecuta esa acción. Si ningún ```case``` es válido, se ejecuta la acción del ```else```.\n",
        "\n",
        "Nota: Solo funciona desde Python [3.10](https://docs.python.org/3/reference/compound_stmts.html#match) y en este momento (marzo 2023) Colab trabaja con una versión previa.\n"
      ],
      "metadata": {
        "id": "PjCIWLamDsmh"
      }
    },
    {
      "cell_type": "code",
      "source": [
        "!python --version"
      ],
      "metadata": {
        "id": "SkMlHWR838pE"
      },
      "execution_count": null,
      "outputs": []
    },
    {
      "cell_type": "code",
      "source": [
        "match codigo_municipio:\n",
        "  case 11001:\n",
        "    print(\"Bogotá\")\n",
        "  case 47001:\n",
        "    print(\"Santa Marta\")\n",
        "  case 76001:\n",
        "    print(\"Cali\")\n",
        "  case _:\n",
        "    print(\"Algún otro municipio\")"
      ],
      "metadata": {
        "id": "1PhXwz0o76Ux"
      },
      "execution_count": null,
      "outputs": []
    },
    {
      "cell_type": "markdown",
      "source": [
        "# Formatos de Archivos (de datos)"
      ],
      "metadata": {
        "id": "tPFk0iSoRAWh"
      }
    },
    {
      "cell_type": "markdown",
      "source": [
        "## ```CSV```: Comma Separated Values"
      ],
      "metadata": {
        "id": "mElbIkMBRE2I"
      }
    },
    {
      "cell_type": "code",
      "source": [
        "!wget -O covid.csv https://www.datos.gov.co/resource/gt2j-8ykr.csv"
      ],
      "metadata": {
        "id": "dr3zIgui48Ui"
      },
      "execution_count": null,
      "outputs": []
    },
    {
      "cell_type": "code",
      "source": [
        "!ls -l covid.csv"
      ],
      "metadata": {
        "id": "HCl-MTAgRmhV"
      },
      "execution_count": null,
      "outputs": []
    },
    {
      "cell_type": "code",
      "source": [
        "!head -5 covid.csv"
      ],
      "metadata": {
        "id": "WYz6KNVsRnx0"
      },
      "execution_count": null,
      "outputs": []
    },
    {
      "cell_type": "code",
      "source": [
        "import csv\n",
        "covid = []\n",
        "with open(\"covid.csv\") as archivo_csv:\n",
        "    csvreader = csv.reader(archivo_csv)\n",
        "    header = next(csvreader)\n",
        "    for data_row in csvreader:\n",
        "        covid.append(data_row)"
      ],
      "metadata": {
        "id": "b4M6HdKtRpN0"
      },
      "execution_count": null,
      "outputs": []
    },
    {
      "cell_type": "code",
      "source": [
        "type(covid)"
      ],
      "metadata": {
        "id": "CG8KwARV4_Bd"
      },
      "execution_count": null,
      "outputs": []
    },
    {
      "cell_type": "code",
      "source": [
        "len(covid)"
      ],
      "metadata": {
        "id": "NlaGVFMe4_Be"
      },
      "execution_count": null,
      "outputs": []
    },
    {
      "cell_type": "code",
      "source": [
        "covid[37]"
      ],
      "metadata": {
        "id": "frMxLtvl4_Be"
      },
      "execution_count": null,
      "outputs": []
    },
    {
      "cell_type": "code",
      "source": [
        "covid[37][10] # fuente_tipo_contagio"
      ],
      "metadata": {
        "id": "2En2CFEW4_Be"
      },
      "execution_count": null,
      "outputs": []
    },
    {
      "cell_type": "code",
      "source": [
        "for paciente in covid:\n",
        "  if paciente[12] == 'Fallecido': # estado\n",
        "    print(paciente[7], end=', ') # edad"
      ],
      "metadata": {
        "id": "d5xsQfTM5kRS"
      },
      "execution_count": null,
      "outputs": []
    },
    {
      "cell_type": "markdown",
      "source": [
        "## `JSON`: JavaScript Object Notation\n",
        "\n",
        "A pesar de su nombre, más allá de JavaScript, [JSON](https://www.json.org/json-es.html) es un formato muy popular para compartir datos. En particular las **listas** y **diccionarios** de Python permiten que la _transformación_ desde y hacia JSON sea muy sencilla."
      ],
      "metadata": {
        "id": "5T5tysfw2VZ7"
      }
    },
    {
      "cell_type": "code",
      "source": [
        "!wget -O covid.json https://www.datos.gov.co/resource/gt2j-8ykr.json"
      ],
      "metadata": {
        "id": "RwKF_WI02WcI"
      },
      "execution_count": null,
      "outputs": []
    },
    {
      "cell_type": "code",
      "source": [
        "!ls -l covid.json"
      ],
      "metadata": {
        "id": "iN7pkK6z4-ZX"
      },
      "execution_count": null,
      "outputs": []
    },
    {
      "cell_type": "code",
      "source": [
        "!head -5 covid.json"
      ],
      "metadata": {
        "id": "BBIp_ynl2aK3"
      },
      "execution_count": null,
      "outputs": []
    },
    {
      "cell_type": "markdown",
      "source": [
        "Es posible utilizar un [visor JSON](http://jsonviewer.stack.hu/) para ver en detalle la estructura de los datos."
      ],
      "metadata": {
        "id": "FPfmmqJCeEWI"
      }
    },
    {
      "cell_type": "code",
      "source": [
        "import json\n",
        "with open(\"covid.json\") as archivo_json:\n",
        "    covid = json.load(archivo_json)"
      ],
      "metadata": {
        "id": "j_wU0YSqP1B5"
      },
      "execution_count": null,
      "outputs": []
    },
    {
      "cell_type": "code",
      "source": [
        "type(covid)"
      ],
      "metadata": {
        "id": "kwA4lrzx3E_1"
      },
      "execution_count": null,
      "outputs": []
    },
    {
      "cell_type": "code",
      "source": [
        "len(covid)"
      ],
      "metadata": {
        "id": "O_0ClxTi3NVM"
      },
      "execution_count": null,
      "outputs": []
    },
    {
      "cell_type": "code",
      "source": [
        "covid[37]"
      ],
      "metadata": {
        "id": "phvRMlVi3OoQ"
      },
      "execution_count": null,
      "outputs": []
    },
    {
      "cell_type": "code",
      "source": [
        "type(covid[37])"
      ],
      "metadata": {
        "id": "OO3VDsrl3Pis"
      },
      "execution_count": null,
      "outputs": []
    },
    {
      "cell_type": "code",
      "source": [
        "covid[37][\"fuente_tipo_contagio\"]"
      ],
      "metadata": {
        "id": "I7vGvlaO3ZR4"
      },
      "execution_count": null,
      "outputs": []
    },
    {
      "cell_type": "code",
      "source": [
        "for paciente in covid:\n",
        "  if paciente['estado'] == 'Fallecido':\n",
        "    print(paciente['edad'], end=', ')"
      ],
      "metadata": {
        "id": "ebTK1ZUP3u2h"
      },
      "execution_count": null,
      "outputs": []
    }
  ]
}